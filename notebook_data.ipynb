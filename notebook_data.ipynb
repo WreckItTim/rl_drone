{
 "cells": [
  {
   "cell_type": "code",
   "execution_count": null,
   "id": "65be45ef-ff7c-429e-a39c-e7e3174636ab",
   "metadata": {},
   "outputs": [],
   "source": [
    "import pickle\n",
    "import os\n",
    "from matplotlib import pyplot as plt"
   ]
  },
  {
   "cell_type": "code",
   "execution_count": null,
   "id": "d7e97ccb-0655-40d8-8198-4055b30d9070",
   "metadata": {},
   "outputs": [],
   "source": [
    "data_path = 'local/runs/example_data/data/'\n",
    "data_legend_path = data_path + 'data_legend.p'\n",
    "data_legend = pickle.load(open(data_legend_path, 'rb'))"
   ]
  },
  {
   "cell_type": "code",
   "execution_count": null,
   "id": "928853d3-530f-4126-80a1-3c2f1151fc34",
   "metadata": {},
   "outputs": [],
   "source": [
    "max_depth = 100 # [m] max distance to perceive, after this is horizon we dont care about\n",
    "# to visualize a depth map, max_depth must be <= 255\n",
    "for fname in os.listdir(data_path):\n",
    "    fpath = data_path + fname\n",
    "    if not os.path.isdir(fpath):\n",
    "        continue\n",
    "    fpath += '/'\n",
    "    point_idx = int(fname)\n",
    "    point_meta = data_legend[point_idx]\n",
    "\n",
    "    print('point', point_idx, 'at', '[x, y, z, yaw]', '=', point_meta)\n",
    "\n",
    "    # read and view forward facing RGB camera image\n",
    "    rgb_file = 'ForwardCamera.png'\n",
    "    rgb_image = plt.imread(fpath + rgb_file)\n",
    "    plt.imshow(rgb_image)\n",
    "    plt.title('Forward Facing Scene Camera')\n",
    "    plt.show()\n",
    "\n",
    "    # read and view forward facing depth array as grayscale image\n",
    "    depth_file = 'ForwardDepth.p'\n",
    "    depth_array = pickle.load(open(fpath + depth_file, 'rb'))\n",
    "    depth_image = depth_array.copy()\n",
    "    depth_image = depth_image[0]\n",
    "    depth_image[depth_image > max_depth] = max_depth\n",
    "    plt.imshow(depth_image, cmap='gray')\n",
    "    plt.title('Forward Facing Scene Camera')\n",
    "    plt.show()"
   ]
  },
  {
   "cell_type": "code",
   "execution_count": null,
   "id": "63e994be-1d20-4143-a5d8-b45dffecb61f",
   "metadata": {},
   "outputs": [],
   "source": []
  }
 ],
 "metadata": {
  "kernelspec": {
   "display_name": "Python 3 (ipykernel)",
   "language": "python",
   "name": "python3"
  },
  "language_info": {
   "codemirror_mode": {
    "name": "ipython",
    "version": 3
   },
   "file_extension": ".py",
   "mimetype": "text/x-python",
   "name": "python",
   "nbconvert_exporter": "python",
   "pygments_lexer": "ipython3",
   "version": "3.12.7"
  }
 },
 "nbformat": 4,
 "nbformat_minor": 5
}
