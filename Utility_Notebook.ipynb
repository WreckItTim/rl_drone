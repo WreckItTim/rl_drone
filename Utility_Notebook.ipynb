{
 "cells": [
  {
   "cell_type": "markdown",
   "id": "16c1b478",
   "metadata": {},
   "source": [
    "# Field of View"
   ]
  },
  {
   "cell_type": "code",
   "execution_count": 5,
   "id": "b28959ec",
   "metadata": {},
   "outputs": [
    {
     "name": "stdout",
     "output_type": "stream",
     "text": [
      "Diagnol FOV (degrees): 82.60000000000001\n",
      "Horizonal FOV (degrees): 21.551822670919492\n",
      "Vertical FOV (degrees): 28.59115845728329\n"
     ]
    }
   ],
   "source": [
    "import math\n",
    "\n",
    "# tello stats\n",
    "H = height = 1936 # pixels\n",
    "W = width = 2592 # pixels\n",
    "FOV_diagnol = math.radians(82.6) # degrees to radians\n",
    "D = diagnol = math.sqrt(H**2 + W**2)\n",
    "FOV_horizontal = math.atan(math.tan(FOV_diagnol/2) * W / D)**2 # radians\n",
    "FOV_vertical = 2 * math.atan(math.tan(FOV_horizontal/2) * W / H) # radians\n",
    "print('Diagnol FOV (degrees):', math.degrees(FOV_diagnol))\n",
    "print('Horizonal FOV (degrees):', math.degrees(FOV_horizontal))\n",
    "print('Vertical FOV (degrees):', math.degrees(FOV_vertical))"
   ]
  },
  {
   "cell_type": "markdown",
   "id": "fdb171a2",
   "metadata": {},
   "source": [
    "# Step Sizes"
   ]
  },
  {
   "cell_type": "code",
   "execution_count": 21,
   "id": "97110cc1",
   "metadata": {},
   "outputs": [
    {
     "name": "stdout",
     "output_type": "stream",
     "text": [
      "Downward Step Size must be < 1.293331717510676 meters\n"
     ]
    }
   ],
   "source": [
    "f = desired_forward_step_size = 5 # meters\n",
    "eps_f = max_error_forward = 0.5 # meters\n",
    "eps_d = max_error_downward = 0.5 # meters\n",
    "c = collision_tollerance = 0.5 # meters from drone.get_position() below drone that will cause a collision\n",
    "theta = FOV_vertical_half = FOV_vertical / 2 # radians\n",
    "n = n_previous_frames = 2 # number frames to look back \n",
    "d = desired_downward_step_size = n*(f-eps_f)*math.tan(theta) - eps_d - c\n",
    "print('Downward Step Size must be <', d, 'meters')"
   ]
  },
  {
   "cell_type": "markdown",
   "id": "9ebc9958",
   "metadata": {},
   "source": [
    "# NEURAL NETWORK EXPERIMENTATION"
   ]
  },
  {
   "cell_type": "code",
   "execution_count": 85,
   "id": "58ba119c",
   "metadata": {},
   "outputs": [],
   "source": [
    "from sklearn.neural_network import MLPClassifier\n",
    "import numpy as np\n",
    "import math\n",
    "from sklearn.metrics import accuracy_score\n",
    "import matplotlib.pyplot as plt"
   ]
  },
  {
   "cell_type": "code",
   "execution_count": 72,
   "id": "e18f048a",
   "metadata": {},
   "outputs": [],
   "source": [
    "def angle_diff(a1, a2):\n",
    "    #return a1 - a2\n",
    "    #return abs(a1 - a2)\n",
    "    #return a1 - a2 - math.pi\n",
    "    #return abs(a1 - a2) - math.pi\n",
    "    return math.pi - abs(abs(a1 - a2) - math.pi)"
   ]
  },
  {
   "cell_type": "code",
   "execution_count": 79,
   "id": "17a86c6c",
   "metadata": {},
   "outputs": [
    {
     "name": "stdout",
     "output_type": "stream",
     "text": [
      "90 120 150 120\n"
     ]
    }
   ],
   "source": [
    "print(\n",
    "    int(round(np.degrees(angle_diff(np.radians(90), np.radians(180))),0)),\n",
    "    int(round(np.degrees(angle_diff(np.radians(-160),np.radians(-40))),0)),\n",
    "    int(round(np.degrees(angle_diff(np.radians(90), np.radians(-120))),0)),\n",
    "    int(round(np.degrees(angle_diff(np.radians(-90), np.radians(150))),0)),\n",
    ")"
   ]
  },
  {
   "cell_type": "code",
   "execution_count": 92,
   "id": "0af91689",
   "metadata": {},
   "outputs": [],
   "source": [
    "n_train = 1000\n",
    "n_test = 100\n",
    "n_features = 2\n",
    "n_output = 2\n",
    "max_iters = 10000"
   ]
  },
  {
   "cell_type": "code",
   "execution_count": 61,
   "id": "ee8c5346",
   "metadata": {},
   "outputs": [
    {
     "name": "stdout",
     "output_type": "stream",
     "text": [
      "(1000, 2) -3.1382846023668782 3.1386069033304365\n"
     ]
    }
   ],
   "source": [
    "X_train = np.random.rand(n_train, n_features)*2*math.pi - math.pi\n",
    "print(X_train.shape, X_train.min(), X_train.max())"
   ]
  },
  {
   "cell_type": "code",
   "execution_count": 62,
   "id": "5c0e5884",
   "metadata": {},
   "outputs": [
    {
     "name": "stdout",
     "output_type": "stream",
     "text": [
      "(100, 2) -3.1377167196047733 3.1356706215922427\n"
     ]
    }
   ],
   "source": [
    "X_test = np.random.rand(n_test, n_features)*2*math.pi - math.pi\n",
    "print(X_test.shape, X_test.min(), X_test.max())"
   ]
  },
  {
   "cell_type": "code",
   "execution_count": 67,
   "id": "32ac4e7e",
   "metadata": {},
   "outputs": [
    {
     "name": "stdout",
     "output_type": "stream",
     "text": [
      "(1000, 2) 0.0 1.0\n",
      "(100, 2) 0.0 1.0\n"
     ]
    }
   ],
   "source": [
    "def get_labels(X):\n",
    "    Y = np.zeros((X.shape[0], n_output))\n",
    "    for n in range(X.shape[0]):\n",
    "        diff = angle_diff(X[n, 0], X[n, 1])\n",
    "        if diff  < 1:\n",
    "            Y[n] = [1, 0]\n",
    "        else:\n",
    "            Y[n] = [0, 1]\n",
    "    print(Y.shape, Y.min(), Y.max())\n",
    "    return Y\n",
    "Y_train = get_labels(X_train)\n",
    "Y_test = get_labels(X_test)"
   ]
  },
  {
   "cell_type": "code",
   "execution_count": 95,
   "id": "c8e5adcc",
   "metadata": {},
   "outputs": [
    {
     "name": "stdout",
     "output_type": "stream",
     "text": [
      "0.985 0.99\n"
     ]
    },
    {
     "data": {
      "text/plain": [
       "[<matplotlib.lines.Line2D at 0x2823741f8e0>]"
      ]
     },
     "execution_count": 95,
     "metadata": {},
     "output_type": "execute_result"
    },
    {
     "data": {
      "image/png": "[encoded data removed]",
      "text/plain": [
       "<Figure size 640x480 with 1 Axes>"
      ]
     },
     "metadata": {},
     "output_type": "display_data"
    }
   ],
   "source": [
    "mlp = MLPClassifier(hidden_layer_sizes=(4,), max_iter=max_iters, early_stopping=False)\n",
    "mlp.fit(X_train, Y_train)\n",
    "P_train = mlp.predict(X_train)\n",
    "P_test = mlp.predict(X_test)\n",
    "print(accuracy_score(P_train, Y_train), accuracy_score(P_test, Y_test))\n",
    "iters = [i+1 for i in range(len(mlp.loss_curve_))]\n",
    "plt.plot(iters, mlp.loss_curve_)"
   ]
  },
  {
   "cell_type": "code",
   "execution_count": 108,
   "id": "b60a1f5a",
   "metadata": {},
   "outputs": [
    {
     "name": "stdout",
     "output_type": "stream",
     "text": [
      "(1000, 1) 0.0042700554004611035 3.1377097833647554\n",
      "(100, 1) 0.0343374350718344 3.0510358941890434\n",
      "0.997 1.0\n"
     ]
    },
    {
     "data": {
      "text/plain": [
       "[<matplotlib.lines.Line2D at 0x28237f5d750>]"
      ]
     },
     "execution_count": 108,
     "metadata": {},
     "output_type": "execute_result"
    },
    {
     "data": {
      "image/png": "[encoded data removed]",
      "text/plain": [
       "<Figure size 640x480 with 1 Axes>"
      ]
     },
     "metadata": {},
     "output_type": "display_data"
    }
   ],
   "source": [
    "def get_x2(X):\n",
    "    X2 = np.zeros((X.shape[0], 1))\n",
    "    for n in range(X.shape[0]):\n",
    "        diff = angle_diff(X[n, 0], X[n, 1])\n",
    "        X2[n] = diff\n",
    "    print(X2.shape, X2.min(), X2.max())\n",
    "    return X2\n",
    "X_train2 = get_x2(X_train)\n",
    "X_test2 = get_x2(X_test)\n",
    "mlp2 = MLPClassifier(hidden_layer_sizes=(2), max_iter=max_iters, early_stopping=False)\n",
    "mlp2.fit(X_train2, Y_train)\n",
    "P_train2 = mlp2.predict(X_train2)\n",
    "P_test2 = mlp2.predict(X_test2)\n",
    "print(accuracy_score(P_train2, Y_train), accuracy_score(P_test2, Y_test))\n",
    "iters2 = [i+1 for i in range(len(mlp2.loss_curve_))]\n",
    "plt.plot(iters2, mlp2.loss_curve_)"
   ]
  },
  {
   "cell_type": "code",
   "execution_count": 109,
   "id": "73bfb0eb",
   "metadata": {},
   "outputs": [
    {
     "data": {
      "text/plain": [
       "[array([[-3.19503245e-159,  3.95154296e+000]]),\n",
       " array([[ 2.91676616e-093,  6.85569790e-128],\n",
       "        [-3.15247113e+000,  4.28424300e+000]])]"
      ]
     },
     "execution_count": 109,
     "metadata": {},
     "output_type": "execute_result"
    }
   ],
   "source": [
    "mlp2.coefs_"
   ]
  },
  {
   "cell_type": "code",
   "execution_count": null,
   "id": "0cbe4e33",
   "metadata": {},
   "outputs": [],
   "source": []
  }
 ],
 "metadata": {
  "kernelspec": {
   "display_name": "Python 3 (ipykernel)",
   "language": "python",
   "name": "python3"
  },
  "language_info": {
   "codemirror_mode": {
    "name": "ipython",
    "version": 3
   },
   "file_extension": ".py",
   "mimetype": "text/x-python",
   "name": "python",
   "nbconvert_exporter": "python",
   "pygments_lexer": "ipython3",
   "version": "3.10.7"
  }
 },
 "nbformat": 4,
 "nbformat_minor": 5
}
