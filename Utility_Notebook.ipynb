{
 "cells": [
  {
   "cell_type": "markdown",
   "id": "16c1b478",
   "metadata": {},
   "source": [
    "# Field of View"
   ]
  },
  {
   "cell_type": "code",
   "execution_count": 5,
   "id": "b28959ec",
   "metadata": {},
   "outputs": [
    {
     "name": "stdout",
     "output_type": "stream",
     "text": [
      "Diagnol FOV (degrees): 82.60000000000001\n",
      "Horizonal FOV (degrees): 21.551822670919492\n",
      "Vertical FOV (degrees): 28.59115845728329\n"
     ]
    }
   ],
   "source": [
    "import math\n",
    "\n",
    "# tello stats\n",
    "H = height = 1936 # pixels\n",
    "W = width = 2592 # pixels\n",
    "FOV_diagnol = math.radians(82.6) # degrees to radians\n",
    "D = diagnol = math.sqrt(H**2 + W**2)\n",
    "FOV_horizontal = math.atan(math.tan(FOV_diagnol/2) * W / D)**2 # radians\n",
    "FOV_vertical = 2 * math.atan(math.tan(FOV_horizontal/2) * W / H) # radians\n",
    "print('Diagnol FOV (degrees):', math.degrees(FOV_diagnol))\n",
    "print('Horizonal FOV (degrees):', math.degrees(FOV_horizontal))\n",
    "print('Vertical FOV (degrees):', math.degrees(FOV_vertical))"
   ]
  },
  {
   "cell_type": "markdown",
   "id": "fdb171a2",
   "metadata": {},
   "source": [
    "# Step Sizes"
   ]
  },
  {
   "cell_type": "code",
   "execution_count": 21,
   "id": "97110cc1",
   "metadata": {},
   "outputs": [
    {
     "name": "stdout",
     "output_type": "stream",
     "text": [
      "Downward Step Size must be < 1.293331717510676 meters\n"
     ]
    }
   ],
   "source": [
    "f = desired_forward_step_size = 5 # meters\n",
    "eps_f = max_error_forward = 0.5 # meters\n",
    "eps_d = max_error_downward = 0.5 # meters\n",
    "c = collision_tollerance = 0.5 # meters from drone.get_position() below drone that will cause a collision\n",
    "theta = FOV_vertical_half = FOV_vertical / 2 # radians\n",
    "n = n_previous_frames = 2 # number frames to look back \n",
    "d = desired_downward_step_size = n*(f-eps_f)*math.tan(theta) - eps_d - c\n",
    "print('Downward Step Size must be <', d, 'meters')"
   ]
  },
  {
   "cell_type": "code",
   "execution_count": null,
   "id": "279f7e38",
   "metadata": {},
   "outputs": [],
   "source": []
  }
 ],
 "metadata": {
  "kernelspec": {
   "display_name": "Python 3 (ipykernel)",
   "language": "python",
   "name": "python3"
  },
  "language_info": {
   "codemirror_mode": {
    "name": "ipython",
    "version": 3
   },
   "file_extension": ".py",
   "mimetype": "text/x-python",
   "name": "python",
   "nbconvert_exporter": "python",
   "pygments_lexer": "ipython3",
   "version": "3.10.6"
  }
 },
 "nbformat": 4,
 "nbformat_minor": 5
}
