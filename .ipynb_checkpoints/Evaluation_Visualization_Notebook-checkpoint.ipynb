{
 "cells": [
  {
   "cell_type": "markdown",
   "id": "fdd5d440",
   "metadata": {},
   "source": [
    "# SETUP"
   ]
  },
  {
   "cell_type": "code",
   "execution_count": 1,
   "id": "2a591cbc",
   "metadata": {},
   "outputs": [],
   "source": [
    "import os\n",
    "import json\n",
    "from matplotlib.image import imread, imsave\n",
    "from matplotlib.pyplot import imshow, show, close\n",
    "from matplotlib import pyplot as plt\n",
    "from collections import OrderedDict\n",
    "import math\n",
    "import matplotlib.image as mpimg\n",
    "import cv2\n",
    "import numpy as np\n",
    "import matplotlib.patches as patches\n",
    "from matplotlib.collections import PatchCollection, PolyCollection\n",
    "import matplotlib.transforms as mtrans\n",
    "import pandas as pd\n",
    "import seaborn as sns"
   ]
  },
  {
   "cell_type": "code",
   "execution_count": 2,
   "id": "0402e2a6",
   "metadata": {},
   "outputs": [],
   "source": [
    "# uci primary colors\n",
    "uci_blue = (0/255, 62/255, 120/255)\n",
    "uci_gold = (253/255, 185/255, 19/255)\n",
    "\n",
    "# uci secondary color palette\n",
    "uci_light_blue = (106/255, 162/255, 184/255)\n",
    "uci_light_gray = (197/255, 190/255, 181/255)\n",
    "uci_dark_blue = (27/255, 61/255, 109/255)\n",
    "uci_orange = (247/255, 141/255, 45/255)\n",
    "uci_light_yellow = (247/255, 235/255, 95/255)\n",
    "uci_dark_gray = (85/255, 87/255, 89/255)\n",
    "uci_lime_green = (122/255, 184/255, 0/255)\n",
    "\n",
    "# color blind friendly colors\n",
    "# https://gist.github.com/thriveth/8560036\n",
    "color_blinds = {\n",
    "    'blue':   [55/255,  126/255, 184/255],  #377eb8 \n",
    "    'orange': [255/255, 127/255, 0/255],    #ff7f00\n",
    "    'green':  [77/255,  175/255, 74/255],   #4daf4a\n",
    "    'pink':   [247/255, 129/255, 191/255],  #f781bf\n",
    "    'brown':  [166/255, 86/255,  40/255],   #a65628\n",
    "    'purple': [152/255, 78/255,  163/255],  #984ea3\n",
    "    'gray':   [153/255, 153/255, 153/255],  #999999\n",
    "    'red':    [228/255, 26/255,  28/255],   #e41a1c\n",
    "    'yellow': [222/255, 222/255, 0/255]     #dede00\n",
    "} \n",
    "color_blinds_list = [color_blinds[color] for color in color_blinds]"
   ]
  },
  {
   "cell_type": "markdown",
   "id": "713499b7",
   "metadata": {},
   "source": [
    "# BINVOX"
   ]
  },
  {
   "cell_type": "code",
   "execution_count": 3,
   "id": "4bc85eea",
   "metadata": {},
   "outputs": [],
   "source": [
    "import binvox as bv\n",
    "binvox_path = 'resources/voxel_grids/blocksmap.binvox'\n",
    "voxels = bv.Binvox.read(binvox_path, 'dense')\n",
    "voxels_data = voxels.data\n",
    "voxels_scale = voxels.scale \n",
    "voxels_trans = voxels.translate\n",
    "voxels_res = (np.absolute(voxels_trans)) * 2 * voxels_scale"
   ]
  },
  {
   "cell_type": "code",
   "execution_count": 4,
   "id": "73f3fda3",
   "metadata": {},
   "outputs": [],
   "source": [
    "_global_plt_patches = None\n",
    "\n",
    "def plot_map(object_color=uci_blue):\n",
    "    global _global_plt_patches\n",
    "    if _global_plt_patches is None:\n",
    "        origin = voxels_data[int(voxels_data.shape[1]/2), int(voxels_data.shape[0]/2), :]\n",
    "        floor_dim = max([i for i, x in enumerate(origin) if x])\n",
    "        scale = voxels_scale * 100\n",
    "        shift = 100\n",
    "        _global_plt_patches = []\n",
    "        for x in range(voxels_data.shape[0]):\n",
    "            for y in range(voxels_data.shape[1]):\n",
    "                for z in range(voxels_data.shape[2]):\n",
    "                    if voxels_data[x, y, z] and z > floor_dim:\n",
    "                        #x_loc = x - shift - scale/2 # align to left for plt.rect\n",
    "                        #y_loc = y - shift - scale/2 # align to bottom for plt.rect\n",
    "                        #patch = patches.Rectangle((x_loc, y_loc), scale, scale, color = object_color)\n",
    "                        patch = patches.Rectangle((x-shift, y-shift), 1, 1, color = object_color)\n",
    "                        _global_plt_patches.append(patch)\n",
    "                        break\n",
    "    # add list of patches (much quicker than iteratively drawing)\n",
    "    map_stuff = PatchCollection(_global_plt_patches, match_original=True)\n",
    "    plt.gca().add_collection(map_stuff)"
   ]
  },
  {
   "cell_type": "code",
   "execution_count": 5,
   "id": "13f7e68a",
   "metadata": {},
   "outputs": [],
   "source": [
    "def plot_spawns_goals(\n",
    "    drone_radius = 0.5,\n",
    "    goal_tolerance = 4,\n",
    "    goal_distance = 100,\n",
    "    spawns = [],\n",
    "    goals = [],\n",
    "    spawn_color = color_blinds['red'],\n",
    "    goal_color = color_blinds['orange'],\n",
    "    goal_wedge = True,\n",
    "):\n",
    "    # patch stuff\n",
    "    spawn_patches = []\n",
    "    goal_patches = []\n",
    "    for idx in range(len(spawns)):\n",
    "        spawn = spawns[idx]\n",
    "        goal = goals[idx]\n",
    "        spawn_patch = patches.Rectangle(\n",
    "            (spawn[0], spawn[1]), \n",
    "            drone_radius, \n",
    "            drone_radius, \n",
    "            color=spawn_color,\n",
    "        )\n",
    "        spawn_patches.append(spawn_patch)\n",
    "        if goal_wedge:\n",
    "            radius = math.sqrt(goal[0]**2 + goal[1]**2)\n",
    "            goal_patch = patches.Wedge(\n",
    "                (spawn[0], spawn[1]), \n",
    "                goal_distance+goal_tolerance, \n",
    "                goal[0], goal[1], \n",
    "                width=2*goal_tolerance,\n",
    "                color=goal_color,\n",
    "            )\n",
    "        else:\n",
    "            goal_patch = patches.Circle(\n",
    "                (goal[0], goal[1]), \n",
    "                goal_tolerance, \n",
    "                color=goal_color,\n",
    "            )\n",
    "        goal_patches.append(goal_patch)\n",
    "    # add list of patches (much quicker than iteratively drawing)\n",
    "    spawn_collection = PatchCollection(spawn_patches, match_original=True)\n",
    "    goal_collection = PatchCollection(goal_patches, match_original=True)\n",
    "    plt.gca().add_collection(goal_collection)\n",
    "    plt.gca().add_collection(spawn_collection)"
   ]
  },
  {
   "cell_type": "code",
   "execution_count": 6,
   "id": "a632cd15",
   "metadata": {},
   "outputs": [],
   "source": [
    "def plot_environment(name='Learning Environment (to scale)'):\n",
    "    fig = plt.figure()\n",
    "    fig.set_size_inches((6, 6))\n",
    "    plt.title(name)\n",
    "    plt.xlabel('y [meters]')\n",
    "    plt.ylabel('x [meters]')\n",
    "    plt.xlim(-120, 120)\n",
    "    plt.ylim(-120, 120)\n",
    "    # custom legend hack\n",
    "    plt.scatter(-999, -999, marker='s', color=object_color)\n",
    "    plt.scatter(-999, -999, marker='s', color=train_spawn_color)\n",
    "    plt.scatter(-999, -999, color=train_goal_color)\n",
    "    #plt.scatter(-999, -999, color=eval_spawn_color)\n",
    "    #plt.scatter(-999, -999, color=eval_goal_color)\n",
    "    plt.legend([\n",
    "        'Objects', \n",
    "        'Spawn', \n",
    "        'Goal', \n",
    "        #'Eval Spawn', \n",
    "        #'Eval Goal'\n",
    "    ],\n",
    "               loc='center left', \n",
    "               bbox_to_anchor=(1, 0.5),)"
   ]
  },
  {
   "cell_type": "code",
   "execution_count": 7,
   "id": "601a7739",
   "metadata": {},
   "outputs": [
    {
     "data": {
      "image/png": "[encoded data removed]",
      "text/plain": [
       "<Figure size 432x432 with 1 Axes>"
      ]
     },
     "metadata": {
      "needs_background": "light"
     },
     "output_type": "display_data"
    }
   ],
   "source": [
    "\n",
    "# plot phase blocks environment map\n",
    "name='Learning Environment (to scale)'\n",
    "goal_distance = 100\n",
    "\n",
    "object_color = color_blinds['blue']\n",
    "train_spawn_color = color_blinds['red']\n",
    "train_goal_color = color_blinds['orange']\n",
    "eval_spawn_color = color_blinds['pink']\n",
    "eval_goal_color = color_blinds['purple']\n",
    "drone_radius = 0.5\n",
    "goal_tolerance = 4\n",
    "goal_distance = 100\n",
    "\n",
    "# set training spawns and goals\n",
    "x_min = -16\n",
    "x_max = 6\n",
    "y_min = -12\n",
    "y_max = 12\n",
    "yaw_min = 0\n",
    "yaw_max = 360\n",
    "training_spawns = []\n",
    "training_goals = []\n",
    "for x in np.arange(x_min, x_max + drone_radius, drone_radius):\n",
    "    for y in np.arange(y_min, y_max + drone_radius, drone_radius):\n",
    "        training_spawns.append([y, x])\n",
    "        training_goals.append([yaw_min, yaw_max])\n",
    "        \n",
    "# set evaluation spawns and goals\n",
    "evaluation_vecs = [\n",
    "    [0,0,math.radians(0)],\n",
    "    [0,0,math.radians(135)],\n",
    "    [0,0,math.radians(180)],\n",
    "    [0,0,math.radians(230)],\n",
    "]\n",
    "evaluation_spawns = []\n",
    "evaluation_goals = []\n",
    "for eval_vec in evaluation_vecs:\n",
    "    x = eval_vec[0]\n",
    "    y = eval_vec[1]\n",
    "    yaw = eval_vec[2]\n",
    "    evaluation_spawns.append([y, x])\n",
    "    goal_x = goal_distance * math.cos(yaw)\n",
    "    goal_y = goal_distance * math.sin(yaw)\n",
    "    evaluation_goals.append([goal_y, goal_x])\n",
    "    \n",
    "# make plot\n",
    "plot_environment(name)\n",
    "\n",
    "# plot training spawns and goals\n",
    "plot_spawns_goals(\n",
    "    drone_radius = drone_radius,\n",
    "    goal_tolerance = goal_tolerance,\n",
    "    goal_distance = goal_distance,\n",
    "    spawns = training_spawns,\n",
    "    goals = training_goals,\n",
    "    spawn_color = train_spawn_color,\n",
    "    goal_color = train_goal_color,\n",
    "    goal_wedge = True,\n",
    ")\n",
    "\n",
    "# plot map objects\n",
    "plot_map(object_color)\n",
    "\n",
    "# plot evaluation  spawns and goals\n",
    "'''\n",
    "plot_spawns_goals(\n",
    "    drone_radius = drone_radius,\n",
    "    goal_tolerance = goal_tolerance,\n",
    "    goal_distance = goal_distance,\n",
    "    spawns = evaluation_spawns,\n",
    "    goals = evaluation_goals,\n",
    "    spawn_color = eval_spawn_color,\n",
    "    goal_color = eval_goal_color,\n",
    "    goal_wedge = False,\n",
    ")\n",
    "'''\n",
    "\n",
    "# show all\n",
    "plt.show()"
   ]
  },
  {
   "cell_type": "markdown",
   "id": "bf4c01db",
   "metadata": {},
   "source": [
    "# EVALUATIONS"
   ]
  },
  {
   "cell_type": "code",
   "execution_count": 8,
   "id": "32774073",
   "metadata": {},
   "outputs": [],
   "source": [
    "# json files output with all string key names\n",
    "# process so that the evaluation dictionary structure is such:\n",
    "    # episode # - int\n",
    "        # step # - int\n",
    "            # state - dictionary of misc key, value pairs for that state\n",
    "def process_episodes(json_evaluation):\n",
    "    nEpisodes = len(json_evaluation) - 1\n",
    "    episodes = [None] * nEpisodes\n",
    "    for episode_str in json_evaluation:\n",
    "        if 'episode_' not in episode_str:\n",
    "            continue\n",
    "        episode_num = int(episode_str.split('_')[1])\n",
    "        json_episode = json_evaluation[episode_str]\n",
    "        nSteps = len(json_episode)\n",
    "        states = [None] * nSteps\n",
    "        for step_str in json_episode:\n",
    "            step_num = int(step_str.split('_')[1]) - 1\n",
    "            state = json_episode[step_str]\n",
    "            states[step_num] = state\n",
    "        episodes[episode_num] = states\n",
    "    return episodes\n",
    "def read_evaluations(evaluation_folder):\n",
    "    evaluation_files = [file for file in os.listdir(evaluation_folder)]\n",
    "    nEvaluations = len(evaluation_files)\n",
    "    evaluations = [None] * nEvaluations\n",
    "    for evaluation_file in evaluation_files:\n",
    "        if '.json' not in evaluation_file:\n",
    "            continue\n",
    "        evaluation_number = int(evaluation_file.split('.')[0].split('_')[1])\n",
    "        json_evaluation = json.load(open(evaluation_folder + evaluation_file, 'r'))\n",
    "        episodes = process_episodes(json_evaluation)\n",
    "        evaluations[evaluation_number] = episodes\n",
    "    return evaluations\n",
    "# architecture for evaluations:\n",
    "# evaluations - list of episodes (indexed of evaluation number) - 0 idx is first evaluation before training\n",
    "    # episodes - list of states (indexed by step number)\n",
    "        # states - dict of (key, value) pairs for state at all_evaluations[instance][evaluation][episode][step]"
   ]
  },
  {
   "cell_type": "code",
   "execution_count": 11,
   "id": "ee9c8991",
   "metadata": {},
   "outputs": [],
   "source": [
    "# read evaluations from folders\n",
    "# get these (sub_folder intances)\n",
    "instances = [\n",
    "    #'mlserver2019', \n",
    "    #'timpc', \n",
    "    #'hacknet4', \n",
    "    #'mlserver2021', \n",
    "    #'testbed1',\n",
    "    'timsurface',\n",
    "]\n",
    "parent_path = 'local/runs/alpha3/'\n",
    "#instances = [folder for folder in os.listdir(parent_path)]\n",
    "paths = {instance:parent_path + instance + '/evaluations/' for instance in instances}\n",
    "all_evaluations = {}\n",
    "for instance in paths:\n",
    "    all_evaluations[instance] = read_evaluations(paths[instance])"
   ]
  },
  {
   "cell_type": "code",
   "execution_count": 12,
   "id": "051de3b6",
   "metadata": {
    "scrolled": true
   },
   "outputs": [
    {
     "data": {
      "text/plain": [
       "{'RotateLeft2': 76, 'RotateRight': 22, 'RotateRight2': 13}"
      ]
     },
     "execution_count": 12,
     "metadata": {},
     "output_type": "execute_result"
    }
   ],
   "source": [
    "# process evaluations\n",
    "_moves = {}\n",
    "final_variables = {instance:{} for instance in instances}\n",
    "for instance in instances:\n",
    "    for episodes in all_evaluations[instance]:\n",
    "        for episode, states in enumerate(episodes):\n",
    "            for state in states:\n",
    "                move = state['transcribed_action']\n",
    "                if move not in _moves:\n",
    "                    _moves[move] = 0\n",
    "                _moves[move] += 1\n",
    "            final_state = states[-1]\n",
    "            for variable in final_state:\n",
    "                if variable not in final_variables[instance]:\n",
    "                    final_variables[instance][variable] = {}\n",
    "                if episode not in final_variables[instance][variable]:\n",
    "                    final_variables[instance][variable][episode] = []\n",
    "                final_variables[instance][variable][episode].append(final_state[variable])\n",
    "_moves\n",
    "# architecture of final_variables:\n",
    "# instance - str name\n",
    "    # variable - str name\n",
    "        # episode - int number\n",
    "            # final values - list of final values with increased # of training evaluations "
   ]
  },
  {
   "cell_type": "code",
   "execution_count": 13,
   "id": "26f610e6",
   "metadata": {},
   "outputs": [
    {
     "name": "stdout",
     "output_type": "stream",
     "text": [
      "timsurface\n",
      "dict_keys(['rl_output', 'nSteps', 'transcribed_action', 'observation_component', 'drone_position', 'yaw', 'goal_position', 'has_collided', 'reward_from_AvoidReward', 'reward_from_GoalReward', 'reward_from_StepsReward', 'total_reward', 'termination_reason', 'termination_result', 'done'])\n"
     ]
    }
   ],
   "source": [
    "for instance in instances:\n",
    "    print(instance)\n",
    "    print(final_variables[instance].keys())"
   ]
  },
  {
   "cell_type": "code",
   "execution_count": 14,
   "id": "9d0f8520",
   "metadata": {
    "scrolled": false
   },
   "outputs": [
    {
     "name": "stdout",
     "output_type": "stream",
     "text": [
      "total_reward\n",
      "timsurface\n"
     ]
    },
    {
     "data": {
      "image/png": "[encoded data removed]",
      "text/plain": [
       "<Figure size 432x288 with 1 Axes>"
      ]
     },
     "metadata": {
      "needs_background": "light"
     },
     "output_type": "display_data"
    },
    {
     "name": "stdout",
     "output_type": "stream",
     "text": [
      "termination_reason\n",
      "timsurface\n"
     ]
    },
    {
     "data": {
      "image/png": "[encoded data removed]",
      "text/plain": [
       "<Figure size 432x288 with 2 Axes>"
      ]
     },
     "metadata": {
      "needs_background": "light"
     },
     "output_type": "display_data"
    }
   ],
   "source": [
    "\n",
    "# select which state variables to fetch\n",
    "numerical_variables = [\n",
    "        #'nSteps', \n",
    "        'total_reward', \n",
    "]\n",
    "string_variables = [\n",
    "    #'transcribed_action', \n",
    "    'termination_reason',\n",
    "]\n",
    "all_variables = numerical_variables + string_variables\n",
    "plots = {}\n",
    "# take mean values\n",
    "for variable in all_variables:\n",
    "    plots[variable] = {}\n",
    "    print(variable)\n",
    "    for instance in instances:\n",
    "        plots[variable][instance] = {}\n",
    "        print(instance)\n",
    "        \n",
    "        values = {}\n",
    "        for episode in final_variables[instance][variable]:\n",
    "            for evaluation in range(len(final_variables[instance][variable][episode])):\n",
    "                if evaluation not in values:\n",
    "                    values[evaluation] = []\n",
    "                values[evaluation].append(final_variables[instance][variable][episode][evaluation])\n",
    "\n",
    "        if variable in numerical_variables:\n",
    "            aggregates = []\n",
    "            nEpisodes = len(final_variables[instance][variable])\n",
    "            for evaluation in values:\n",
    "                aggregates.append(sum(values[evaluation])/len(values[evaluation]))\n",
    "            plt.title('Evaluation Learning Curve')\n",
    "            plt.xlabel('After # of Training Episodes [100s]')\n",
    "            plt.ylabel(variable + ' at Final State')\n",
    "            plt.plot(aggregates)\n",
    "            plt.show()\n",
    "\n",
    "        if variable in string_variables:\n",
    "            aggregates = {}\n",
    "            for evaluation in values:\n",
    "                for name in values[evaluation]:\n",
    "                    if name not in aggregates:\n",
    "                        aggregates[name] = {}\n",
    "                    if evaluation not in aggregates[name]:\n",
    "                        aggregates[name][evaluation] = 0\n",
    "                    aggregates[name][evaluation] += 1   \n",
    "            df_data = {'count':[], 'name':[], 'evaluation':[]}\n",
    "            for name in aggregates:\n",
    "                for evaluation in values:\n",
    "                    if evaluation not in aggregates[name]:\n",
    "                        aggregates[name][evaluation] = 0\n",
    "                    count = aggregates[name][evaluation]\n",
    "                    df_data['count'].append(count)\n",
    "                    df_data['name'].append(name)\n",
    "                    df_data['evaluation'].append(evaluation)\n",
    "            df = pd.DataFrame(df_data)\n",
    "            heatmap_data = pd.pivot_table(df, values='count', index=['name'], columns='evaluation')\n",
    "            sns.heatmap(heatmap_data)\n",
    "            plt.title('Evaluation Learning Curve: ' + variable)\n",
    "            plt.show()\n",
    "            \n",
    "        plots[variable][instance] = aggregates"
   ]
  },
  {
   "cell_type": "code",
   "execution_count": 15,
   "id": "c7f78837",
   "metadata": {},
   "outputs": [
    {
     "data": {
      "image/png": "[encoded data removed]",
      "text/plain": [
       "<Figure size 432x288 with 1 Axes>"
      ]
     },
     "metadata": {
      "needs_background": "light"
     },
     "output_type": "display_data"
    }
   ],
   "source": [
    "plt.title('Over all Evaluations')\n",
    "plt.xlabel('Step')\n",
    "plt.ylabel('Mean Reward')\n",
    "plt.ylim([-0.5, 0.5])\n",
    "for instance in instances:\n",
    "    evaluations = all_evaluations[instance]\n",
    "    for evaluation, episodes in enumerate(evaluations):\n",
    "        R = 0\n",
    "        Rs = {}\n",
    "        n = 0\n",
    "        for episode, states in enumerate(episodes):\n",
    "            for step, state in enumerate(states):\n",
    "                if step not in Rs:\n",
    "                    Rs[step] = []\n",
    "                r = state['total_reward']\n",
    "                n+=1\n",
    "                R+=r\n",
    "                Rs[step].append(r)\n",
    "        aves = []\n",
    "        for step in Rs:\n",
    "            ave = np.mean(Rs[step])\n",
    "            aves.append(ave)\n",
    "        plt.plot(aves)\n",
    "plt.show()"
   ]
  },
  {
   "cell_type": "code",
   "execution_count": 16,
   "id": "5726e980",
   "metadata": {
    "scrolled": false
   },
   "outputs": [
    {
     "name": "stdout",
     "output_type": "stream",
     "text": [
      "-10.0 111 -0.09009009009009009\n"
     ]
    },
    {
     "data": {
      "image/png": "[encoded data removed]",
      "text/plain": [
       "<Figure size 432x288 with 1 Axes>"
      ]
     },
     "metadata": {
      "needs_background": "light"
     },
     "output_type": "display_data"
    },
    {
     "data": {
      "text/plain": [
       "0.0"
      ]
     },
     "execution_count": 16,
     "metadata": {},
     "output_type": "execute_result"
    }
   ],
   "source": [
    "R = 0\n",
    "Rs = {}\n",
    "n = 0\n",
    "for instance in instances:\n",
    "    evaluations = all_evaluations[instance]\n",
    "    for evaluation, episodes in enumerate(evaluations):\n",
    "        for episode, states in enumerate(episodes):\n",
    "            \n",
    "            for step, state in enumerate(states):\n",
    "                if step not in Rs:\n",
    "                    Rs[step] = []\n",
    "                r = state['total_reward']\n",
    "                n+=1\n",
    "                R+=r\n",
    "                Rs[step].append(r)\n",
    "print(R, n, R/n)\n",
    "aves = []\n",
    "for step in Rs:\n",
    "    ave = np.mean(Rs[step])\n",
    "    aves.append(ave)\n",
    "    #plt.hist(Rs[step])\n",
    "    #plt.title('step ' + str(step) + ' mean ' + str(round(ave, 4)))\n",
    "    #plt.show()\n",
    "plt.plot(aves)\n",
    "plt.title('Over all Evaluations')\n",
    "plt.xlabel('Step')\n",
    "plt.ylabel('Mean Reward')\n",
    "plt.show()\n",
    "aves[-1]"
   ]
  },
  {
   "cell_type": "code",
   "execution_count": null,
   "id": "b2b49964",
   "metadata": {},
   "outputs": [],
   "source": []
  },
  {
   "cell_type": "code",
   "execution_count": 17,
   "id": "ca961edd",
   "metadata": {},
   "outputs": [
    {
     "data": {
      "text/plain": [
       "[<matplotlib.lines.Line2D at 0x25642bc8550>]"
      ]
     },
     "execution_count": 17,
     "metadata": {},
     "output_type": "execute_result"
    },
    {
     "data": {
      "image/png": "[encoded data removed]",
      "text/plain": [
       "<Figure size 432x288 with 1 Axes>"
      ]
     },
     "metadata": {
      "needs_background": "light"
     },
     "output_type": "display_data"
    }
   ],
   "source": [
    "gamma = 0.9999\n",
    "mean_reward = 0.02\n",
    "rs = []\n",
    "for n in range(99):\n",
    "    r = np.random.normal(loc=0.028, scale=0.001, size=None)\n",
    "    for n in range(99-n):\n",
    "        r += (gamma**n) * np.random.normal(loc=0.028, scale=0.001, size=None)\n",
    "    r += (gamma**99) * (-10)\n",
    "    rs.append(r)\n",
    "plt.plot(rs)"
   ]
  },
  {
   "cell_type": "code",
   "execution_count": 18,
   "id": "0066b114",
   "metadata": {},
   "outputs": [],
   "source": [
    "from tensorboard.backend.event_processing import event_accumulator\n",
    "import pandas as pd\n",
    "\n",
    "\n",
    "def parse_tensorboard(path, scalars):\n",
    "    \"\"\"returns a dictionary of pandas dataframes for each requested scalar\"\"\"\n",
    "    ea = event_accumulator.EventAccumulator(\n",
    "        path,\n",
    "        size_guidance={event_accumulator.SCALARS: 0},\n",
    "    )\n",
    "    _absorb_print = ea.Reload()\n",
    "    # make sure the scalars are in the event accumulator tags\n",
    "    assert all(\n",
    "        s in ea.Tags()[\"scalars\"] for s in scalars\n",
    "    ), \"some scalars were not found in the event accumulator\"\n",
    "    return {k: pd.DataFrame(ea.Scalars(k)) for k in scalars}\n",
    "\n",
    "#parse_tensorboard(\"local/results/alpha2/mlserver2019/mlserver2019/tensorboard/run_1\", ['Loss', 'Epsilon', 'Learning_rate'])"
   ]
  },
  {
   "cell_type": "code",
   "execution_count": 19,
   "id": "622a9967",
   "metadata": {
    "scrolled": true
   },
   "outputs": [
    {
     "data": {
      "image/png": "[encoded data removed]",
      "text/plain": [
       "<Figure size 432x288 with 1 Axes>"
      ]
     },
     "metadata": {
      "needs_background": "light"
     },
     "output_type": "display_data"
    },
    {
     "data": {
      "image/png": "[encoded data removed]",
      "text/plain": [
       "<Figure size 432x288 with 1 Axes>"
      ]
     },
     "metadata": {
      "needs_background": "light"
     },
     "output_type": "display_data"
    }
   ],
   "source": [
    "Rs = {}\n",
    "gamma = 0.9999\n",
    "for instance in instances:\n",
    "    evaluations = all_evaluations[instance]\n",
    "    for evaluation, episodes in enumerate(evaluations):\n",
    "        Rs[evaluation] = {}\n",
    "        plt.title('Evaluation ' + str(evaluation))\n",
    "        plt.xlabel('Step')\n",
    "        plt.ylabel('Mean Reward')\n",
    "        for episode, states in enumerate(episodes):\n",
    "            Rs[evaluation][episode] = {}\n",
    "            rs = []\n",
    "            termination_reason = states[-1]['termination_reason']\n",
    "            for step, state in enumerate(states):\n",
    "                r = state['total_reward']\n",
    "                for step2, state2 in enumerate(states[step+1:]):\n",
    "                    r += (gamma**(step2-step)) * state2['total_reward']\n",
    "                rs.append(r)\n",
    "            Rs[evaluation][episode] = rs\n",
    "            plt.plot(rs, label=str(episode) + ' ' + termination_reason)\n",
    "        plt.legend()\n",
    "        plt.show()"
   ]
  },
  {
   "cell_type": "code",
   "execution_count": 20,
   "id": "f18f0d01",
   "metadata": {},
   "outputs": [
    {
     "name": "stdout",
     "output_type": "stream",
     "text": [
      "Instance timsurface Evaluation 0 Episode 0\n",
      "L2 L2 R R R R L2 R R R \n",
      "Instance timsurface Evaluation 0 Episode 1\n",
      "L2 \n",
      "Instance timsurface Evaluation 0 Episode 2\n",
      "L2 R L2 R2 R2 R R R R R2 \n",
      "Instance timsurface Evaluation 0 Episode 3\n",
      "L2 R2 R R2 L2 L2 R R2 R2 R \n",
      "Instance timsurface Evaluation 0 Episode 4\n",
      "L2 R R L2 R R2 L2 L2 R R2 \n",
      "Instance timsurface Evaluation 0 Episode 5\n",
      "L2 R R L2 L2 L2 L2 L2 R L2 \n",
      "Instance timsurface Evaluation 1 Episode 0\n",
      "R2 R2 L2 L2 L2 L2 L2 L2 L2 L2 \n",
      "Instance timsurface Evaluation 1 Episode 1\n",
      "L2 L2 L2 L2 L2 L2 L2 L2 L2 L2 \n",
      "Instance timsurface Evaluation 1 Episode 2\n",
      "R2 L2 L2 L2 L2 L2 L2 L2 L2 L2 \n",
      "Instance timsurface Evaluation 1 Episode 3\n",
      "L2 L2 L2 L2 L2 L2 L2 L2 L2 L2 \n",
      "Instance timsurface Evaluation 1 Episode 4\n",
      "R2 L2 L2 L2 L2 L2 L2 L2 L2 L2 \n",
      "Instance timsurface Evaluation 1 Episode 5\n",
      "L2 L2 L2 L2 L2 L2 L2 L2 L2 L2 \n"
     ]
    }
   ],
   "source": [
    "# view moves for each evaluation for each episode\n",
    "for instance in instances:\n",
    "    for evaluation, episodes in enumerate(all_evaluations[instance]):\n",
    "        for episode, states in enumerate(episodes):\n",
    "            print('Instance', instance, 'Evaluation', evaluation, 'Episode', episode)\n",
    "            for state in states:\n",
    "                action = state['transcribed_action']\n",
    "                marker = '-'\n",
    "                if action == 'MoveForward':\n",
    "                    marker = 'F'\n",
    "                if action == 'RotateLeft':\n",
    "                    marker = 'L'\n",
    "                if action == 'RotateRight':\n",
    "                    marker = 'R'\n",
    "                if action == 'RotateLeft2':\n",
    "                    marker = 'L2'\n",
    "                if action == 'RotateRight2':\n",
    "                    marker = 'R2'\n",
    "                print(marker, end=' ')\n",
    "            print()"
   ]
  },
  {
   "cell_type": "code",
   "execution_count": 21,
   "id": "0032e388",
   "metadata": {
    "scrolled": true
   },
   "outputs": [
    {
     "data": {
      "image/png": "[encoded data removed]",
      "text/plain": [
       "<Figure size 432x432 with 1 Axes>"
      ]
     },
     "metadata": {
      "needs_background": "light"
     },
     "output_type": "display_data"
    },
    {
     "data": {
      "image/png": "[encoded data removed]",
      "text/plain": [
       "<Figure size 432x432 with 1 Axes>"
      ]
     },
     "metadata": {
      "needs_background": "light"
     },
     "output_type": "display_data"
    }
   ],
   "source": [
    "# plot final paths (run necessary binvox stuff at bottom of notebook to use plot_map)\n",
    "for instance in instances:\n",
    "    for evaluation, episodes in enumerate(all_evaluations[instance]):\n",
    "        nEpisodes = 6 \n",
    "        last_ls = {}\n",
    "        last_xs = {}\n",
    "        last_ys = {}\n",
    "        last_zs = {}\n",
    "        obj_xs = []\n",
    "        obj_ys = []\n",
    "        termination_reasons = []\n",
    "        #episodes = all_evaluations[instance][-1]\n",
    "        for episode in range(nEpisodes):\n",
    "            last_ls[episode] = []\n",
    "            last_xs[episode] = []\n",
    "            last_ys[episode] = []\n",
    "            last_zs[episode] = []\n",
    "            first_position = episodes[episode][0]['drone_position']\n",
    "\n",
    "            yaw = [math.radians(0), \n",
    "                   math.radians(-45), \n",
    "                   math.radians(45), \n",
    "                   math.radians(135), \n",
    "                   math.radians(180), \n",
    "                   math.radians(-130)][episode]\n",
    "            obj_distance = 100\n",
    "            obj_x = obj_distance * math.cos(yaw)\n",
    "            obj_y = obj_distance * math.sin(yaw)\n",
    "            obj_xs.append(obj_x)\n",
    "            obj_ys.append(obj_y)\n",
    "\n",
    "            for step in range(len(episodes[episode])):\n",
    "                state = episodes[episode][step]\n",
    "                position = state['drone_position']\n",
    "                line_distance = math.sqrt((position[0] - first_position[0])**2 + (position[1] - first_position[1])**2)\n",
    "                last_ls[episode].append(line_distance)\n",
    "                last_xs[episode].append(position[0])\n",
    "                last_ys[episode].append(position[1])\n",
    "                last_zs[episode].append(position[2])\n",
    "            termination_reason = episodes[episode][-1]['termination_reason']\n",
    "            termination_reasons.append(termination_reason)\n",
    "        object_color = uci_blue\n",
    "        fig = plt.figure()\n",
    "        fig.set_size_inches((6, 6))\n",
    "        plt.title('Evaluation Paths after ' + str(evaluation*100) + ' Training Episodes')\n",
    "        # custom legend hack\n",
    "        plt.scatter(-999, -999, marker='s', color=object_color)\n",
    "        legend = ['Objects']\n",
    "        for idx, episode in enumerate(last_ls):\n",
    "            color = color_blinds_list[idx]\n",
    "            plt.scatter(-999, -999, color=color)\n",
    "            legend.append('Episode ' + str(episode))\n",
    "        plt.legend(legend, loc='center left', bbox_to_anchor=(1, 0.5))\n",
    "        plt.xlabel('y [meters]')\n",
    "        plt.ylabel('x [meters]')\n",
    "        plt.xlim(-120, 120)\n",
    "        plt.ylim(-120, 120)\n",
    "        plot_map(object_color)\n",
    "        plt_patches = []\n",
    "        for idx, episode in enumerate(last_ls):\n",
    "            color = color_blinds_list[idx]\n",
    "            obj = plt.Circle((obj_ys[idx], obj_xs[idx]), 4, color=color)\n",
    "            plt_patches.append(obj)\n",
    "            for idx in range(len(last_ys[episode])):\n",
    "                # using generic quad copter dimensions for point sizes (set this to your drone value)\n",
    "                radius = 0.5\n",
    "                point = plt.Circle((last_ys[episode][idx], last_xs[episode][idx]), radius, color=color)\n",
    "                plt_patches.append(point)\n",
    "        map_stuff = PatchCollection(plt_patches, match_original=True)\n",
    "        plt.gca().add_collection(map_stuff)\n",
    "        plt.show()"
   ]
  },
  {
   "cell_type": "code",
   "execution_count": null,
   "id": "b973caf1",
   "metadata": {
    "scrolled": true
   },
   "outputs": [],
   "source": [
    "# make a slide show video from observations and states\n",
    "last_evaluation = list(evaluations.keys())[-1]\n",
    "last_evaluations = evaluations[last_evaluation]\n",
    "observations = {}\n",
    "state_variables = {}\n",
    "for episode in last_evaluations:\n",
    "    observations[episode] = []\n",
    "    state_variables[episode] = []\n",
    "    previous_state = last_evaluations[episode]['1']\n",
    "    first_position = last_evaluations[episode]['1']['drone_position']\n",
    "    for step in last_evaluations[episode]:\n",
    "        \n",
    "        observation = previous_state['observation_component']\n",
    "        observations[episode].append(observation)\n",
    "        \n",
    "        state = last_evaluations[episode][step]\n",
    "        action = state['transcribed_action']\n",
    "        reward = state['total_reward']\n",
    "        state_vars = {\n",
    "            'Action' : action,\n",
    "            'Reward' : reward,\n",
    "        }\n",
    "        state_variables[episode].append(state_vars)\n",
    "        \n",
    "        previous_state = state\n",
    "        \n",
    "    state = last_evaluations[episode][str(len(last_evaluations[episode]))]\n",
    "    observation = state['observation_component']\n",
    "    observations[episode].append(observation)\n",
    "    reward = state['total_reward']\n",
    "    state_vars = {\n",
    "            'Action' : 'done ' + state['termination_reason'],\n",
    "            'Reward' : reward,\n",
    "        }\n",
    "    state_variables[episode].append(state_vars)\n",
    "    \n",
    "# make slideshow frames\n",
    "font_dic = {'color':'orange', \n",
    "            'size':18, \n",
    "           }\n",
    "offset = -2\n",
    "y = 4\n",
    "inc = 8\n",
    "for episode in last_evaluations:\n",
    "    print('Episode', episode)\n",
    "    for step, observation in enumerate(observations[episode]):\n",
    "        if step == 0:\n",
    "            continue\n",
    "        splits = observation.split('_')\n",
    "        vec = json.load(open(observation_folder + splits[1] + '.json', 'r'))\n",
    "        img = mpimg.imread(observation_folder + splits[2] + '.png')\n",
    "        plt.title('Step ' + str(step))\n",
    "        plt.imshow(img)\n",
    "        plt.text(0, y + inc, 'Action: ' + str(state_variables[episode][step]['Action']), font_dic)\n",
    "        plt.text(0, y + 2*inc, 'Reward: ' + str(round(state_variables[episode][step]['Reward'],2)), font_dic)\n",
    "        for idx, key in enumerate(vec):\n",
    "            val = vec[key]\n",
    "            if key == 'yaw_difference_normalized':\n",
    "                key = 'Yaw_Diff'\n",
    "                val = int(360 * (1 - val))\n",
    "            plt.text(0, y + (idx + 3)*inc, key + ': ' + str(val) + '\\N{DEGREE SIGN}', font_dic)\n",
    "        plt.show()\n",
    "        plt.savefig(slideshow_path + episode + '_' + str(step) + '.png')\n",
    "        \n",
    "# make video from frames\n",
    "for episode in last_evaluations:\n",
    "    frames = []\n",
    "    for step, observation in enumerate(observations[episode]):\n",
    "        if step == 0:\n",
    "            continue\n",
    "        frame_path = slideshow_path + episode + '_' + str(step) + '.png'\n",
    "        frame = cv2.imread(frame_path)\n",
    "        frame_shape = frame.shape\n",
    "        frames.append(frame)\n",
    "        print(type(frame), frame.shape)\n",
    "    video_path = slideshow_path + 'Final_Evaluation_Episode_' + episode + '.avi'\n",
    "    video = cv2.VideoWriter(\n",
    "                            filename = video_path, \n",
    "                            fourcc = 0,\n",
    "                            fps = 1,\n",
    "                            frameSize = (frame_shape[1], frame_shape[0]),\n",
    "                            isColor = True,\n",
    "                           )\n",
    "    for frame in frames:\n",
    "        video.write(frame)\n",
    "    video.release()"
   ]
  },
  {
   "cell_type": "markdown",
   "id": "c220151e",
   "metadata": {},
   "source": [
    "# OBSERVATOINS"
   ]
  },
  {
   "cell_type": "code",
   "execution_count": null,
   "id": "cbecf64a",
   "metadata": {},
   "outputs": [],
   "source": [
    "observation_folder = ''\n",
    "observations = {}\n",
    "observation_files = [file for file in os.listdir(observation_folder)]\n",
    "for observation_file in observation_files:\n",
    "    observation_name = observation_file.split('.')[0]\n",
    "    observations[observation_name] = imread(observation_folder + observation_file)\n",
    "imshow(observations[observation_name], cmap='gray')"
   ]
  },
  {
   "cell_type": "markdown",
   "id": "56422e57",
   "metadata": {},
   "source": [
    "# BENCHMARKS"
   ]
  },
  {
   "cell_type": "code",
   "execution_count": null,
   "id": "500148de",
   "metadata": {},
   "outputs": [],
   "source": [
    "benchmarks_path = ''\n",
    "benchmarks = json.load(open(benchmarks_path, 'r'))\n",
    "print('Estimated Time of Completion:', sum(benchmarks['time']['environments.dronerl.reset']) / 1_000_000 / 60 / 60)"
   ]
  },
  {
   "cell_type": "code",
   "execution_count": null,
   "id": "7042f42c",
   "metadata": {
    "scrolled": true
   },
   "outputs": [],
   "source": [
    "def aggregate_time_benchmarks(benchmarks):\n",
    "    aggregated = {'units':benchmarks['time']['units']}\n",
    "    for variable_name in benchmarks['time']:\n",
    "        if variable_name == 'units':\n",
    "            continue\n",
    "        if variable_name in ['maps.airsimmap.connect', ]:\n",
    "            method_name = variable_name\n",
    "        else:\n",
    "            method_name = variable_name.split('.')[-1]\n",
    "        if method_name not in aggregated:\n",
    "            aggregated[method_name] = []\n",
    "        aggregated[method_name] = aggregated[method_name] + benchmarks['time'][variable_name]\n",
    "    return aggregated\n",
    "def aggregate_memory_benchmarks(benchmarks):\n",
    "    aggregated = {'units':benchmarks['memory']['units']}\n",
    "    for variable_name in benchmarks['memory']:\n",
    "        if variable_name == 'units':\n",
    "            continue\n",
    "        class_name = variable_name.split('_')[0]\n",
    "        if class_name not in aggregated:\n",
    "            aggregated[class_name] = []\n",
    "        aggregated[class_name] = aggregated[class_name] + benchmarks['memory'][variable_name]\n",
    "    return aggregated\n",
    "def visualize_benchmarks(benchmarks):\n",
    "    for metric_name in benchmarks:\n",
    "        units = benchmarks[metric_name]['units']\n",
    "        for variable_name in benchmarks[metric_name]:\n",
    "            if variable_name in ['units', 'memory']:\n",
    "                continue\n",
    "            measurements = benchmarks[metric_name][variable_name]\n",
    "            plt.hist(measurements, 10)\n",
    "            plt.xlabel(metric_name + ' [' + units + ']')\n",
    "            plt.ylabel('Bin Count')\n",
    "            plt.title(variable_name)\n",
    "            plt.show()\n",
    "benchmarks['time'] = aggregate_time_benchmarks(benchmarks)\n",
    "#benchmarks['memory'] = aggregate_memory_benchmarks(benchmarks)\n",
    "visualize_benchmarks(benchmarks)"
   ]
  },
  {
   "cell_type": "code",
   "execution_count": null,
   "id": "52408551",
   "metadata": {},
   "outputs": [],
   "source": []
  }
 ],
 "metadata": {
  "kernelspec": {
   "display_name": "Python 3 (ipykernel)",
   "language": "python",
   "name": "python3"
  },
  "language_info": {
   "codemirror_mode": {
    "name": "ipython",
    "version": 3
   },
   "file_extension": ".py",
   "mimetype": "text/x-python",
   "name": "python",
   "nbconvert_exporter": "python",
   "pygments_lexer": "ipython3",
   "version": "3.10.8"
  }
 },
 "nbformat": 4,
 "nbformat_minor": 5
}
